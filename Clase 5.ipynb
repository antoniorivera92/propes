{
 "cells": [
  {
   "cell_type": "markdown",
   "metadata": {},
   "source": [
    "# Clase 5"
   ]
  },
  {
   "cell_type": "markdown",
   "metadata": {},
   "source": [
    "## Polinomios y ecuaciones"
   ]
  },
  {
   "cell_type": "markdown",
   "metadata": {},
   "source": [
    "#### Ecuación de segundo grado (cuadrática)"
   ]
  },
  {
   "cell_type": "markdown",
   "metadata": {},
   "source": [
    "La ecuación general de segundo grado:"
   ]
  },
  {
   "cell_type": "markdown",
   "metadata": {},
   "source": [
    "$$ ax^2+bx+c=0 $$"
   ]
  },
  {
   "cell_type": "markdown",
   "metadata": {},
   "source": [
    "Su solución más general es *\"le Chicharronera\"*:"
   ]
  },
  {
   "cell_type": "markdown",
   "metadata": {},
   "source": [
    "$$ x=\\dfrac{-b\\pm\\sqrt{b^2-4ac}}{2a} $$"
   ]
  },
  {
   "cell_type": "markdown",
   "metadata": {},
   "source": [
    "El signo $\\pm$ nos quiere decir que al realizar las operaciones obtendremos, a lo más, dos soluciones: una donde tomamos el signo positivo y una donde tendremos el signo negativo."
   ]
  },
  {
   "cell_type": "markdown",
   "metadata": {},
   "source": [
    "No necesariamente siempre tendremos dos soluciones. Puede ser que obtengamos una solución o ninguna."
   ]
  },
  {
   "cell_type": "markdown",
   "metadata": {},
   "source": [
    "* ***Ejemplo:***\n",
    "$$ x^2-5x+6=0 $$"
   ]
  },
  {
   "cell_type": "markdown",
   "metadata": {},
   "source": [
    "Al comparar esto con la ecuación general vemos que los coeficientes deben ser $a=+1$, $b=-5$, $c=+6$"
   ]
  },
  {
   "cell_type": "markdown",
   "metadata": {},
   "source": [
    "Al sustituir esto en *\"le Chicharronera\"* tenemos"
   ]
  },
  {
   "cell_type": "markdown",
   "metadata": {},
   "source": [
    "$$ x=\\dfrac{-(-5)\\pm\\sqrt{(-5)^2-4(+1)(+6)}}{2(+1)} $$"
   ]
  },
  {
   "cell_type": "markdown",
   "metadata": {},
   "source": [
    "$$ =\\dfrac{+5\\pm\\sqrt{25-24}}{2} $$"
   ]
  },
  {
   "cell_type": "markdown",
   "metadata": {},
   "source": [
    "$$ =\\dfrac{+5\\pm1}{2} $$"
   ]
  },
  {
   "cell_type": "markdown",
   "metadata": {},
   "source": [
    "Entonces tendremos dos soluciones: la primera, cuando tomamos el signo \"$+$\""
   ]
  },
  {
   "cell_type": "markdown",
   "metadata": {},
   "source": [
    "$$ x_1=\\dfrac{+5+1}{2}=\\dfrac{6}{2}=3 $$"
   ]
  },
  {
   "cell_type": "markdown",
   "metadata": {},
   "source": [
    "la segunda, cuando tomamos el signo \"$-$\""
   ]
  },
  {
   "cell_type": "markdown",
   "metadata": {},
   "source": [
    "$$ x_2=\\dfrac{+5-1}{2}=\\dfrac{4}{2}=2 $$"
   ]
  },
  {
   "cell_type": "markdown",
   "metadata": {},
   "source": [
    "***Comprobación:*** Podemos ver que realmente estas son las soluciones si sustituimos en la ecuación original:"
   ]
  },
  {
   "cell_type": "markdown",
   "metadata": {},
   "source": [
    "* Para $x_1=3$"
   ]
  },
  {
   "cell_type": "markdown",
   "metadata": {},
   "source": [
    "$$ x^2-5x+6=(3)^2-5(3)+6=9-15+6=0 $$"
   ]
  },
  {
   "cell_type": "markdown",
   "metadata": {},
   "source": [
    "* Para $x_2=2$"
   ]
  },
  {
   "cell_type": "markdown",
   "metadata": {},
   "source": [
    "$$ x^2-5x+6=(2)^2-5(2)+6=4-10+6=0 $$"
   ]
  },
  {
   "cell_type": "markdown",
   "metadata": {},
   "source": [
    "* ***Ejemplo:***\n",
    "$$ x^2-4=0 $$"
   ]
  },
  {
   "cell_type": "markdown",
   "metadata": {},
   "source": [
    "Al comparar esto con la ecuación general vemos que los coeficientes deben ser $a=+1$, $b=0$, $c=-4$"
   ]
  },
  {
   "cell_type": "markdown",
   "metadata": {},
   "source": [
    "Al sustituir esto en *\"le Chicharronera\"* tenemos"
   ]
  },
  {
   "cell_type": "markdown",
   "metadata": {},
   "source": [
    "$$ x=\\dfrac{-(0)\\pm\\sqrt{(0)^2-4(+1)(-4)}}{2(+1)} $$"
   ]
  },
  {
   "cell_type": "markdown",
   "metadata": {},
   "source": [
    "$$ =\\dfrac{0\\pm\\sqrt{0+16}}{2} $$"
   ]
  },
  {
   "cell_type": "markdown",
   "metadata": {},
   "source": [
    "$$ =\\dfrac{\\pm4}{2} $$"
   ]
  },
  {
   "cell_type": "markdown",
   "metadata": {},
   "source": [
    "Entonces tendremos dos soluciones: la primera, cuando tomamos el signo \"$+$\""
   ]
  },
  {
   "cell_type": "markdown",
   "metadata": {},
   "source": [
    "$$ x_1=\\dfrac{+4}{2}=2 $$"
   ]
  },
  {
   "cell_type": "markdown",
   "metadata": {},
   "source": [
    "la segunda, cuando tomamos el signo \"$-$\""
   ]
  },
  {
   "cell_type": "markdown",
   "metadata": {},
   "source": [
    "$$ x_2=\\dfrac{-4}{2}=-2 $$"
   ]
  },
  {
   "cell_type": "markdown",
   "metadata": {},
   "source": [
    "***Comprobación:*** Podemos ver que realmente estas son las soluciones si sustituimos en la ecuación original:"
   ]
  },
  {
   "cell_type": "markdown",
   "metadata": {},
   "source": [
    "* Para $x_1=2$"
   ]
  },
  {
   "cell_type": "markdown",
   "metadata": {},
   "source": [
    "$$ x^2-4=(2)^2-4=4-4=0 $$"
   ]
  },
  {
   "cell_type": "markdown",
   "metadata": {},
   "source": [
    "* Para $x_2=-2$"
   ]
  },
  {
   "cell_type": "markdown",
   "metadata": {},
   "source": [
    "$$ x^2-4=(-2)^2-4=4-4=0 $$"
   ]
  },
  {
   "cell_type": "markdown",
   "metadata": {},
   "source": [
    "## Factorización"
   ]
  },
  {
   "cell_type": "markdown",
   "metadata": {},
   "source": [
    "*Factorización* significa poder escribir una expresión algebraica en términos de factores que se multiplican entre sí."
   ]
  },
  {
   "cell_type": "markdown",
   "metadata": {},
   "source": [
    "Recordemos que habíamos hablado antes de productos notables:\n",
    "* Binomio al cuadrado \n",
    "* Diferencia de cuadrados"
   ]
  },
  {
   "cell_type": "markdown",
   "metadata": {},
   "source": [
    "Veamos cómo factorizamos los siguientes ejemplos:"
   ]
  },
  {
   "cell_type": "markdown",
   "metadata": {},
   "source": [
    "* ***Elemplo:***\n",
    "$$ 4x^2-49 $$"
   ]
  },
  {
   "cell_type": "markdown",
   "metadata": {},
   "source": [
    "Notamos que la expresión anterior sólo se trata de dos términos que se están restando. Inmediatamente pensamos en diferencia de cuadrados:\n",
    "* $4x^2$ proviene de $(2x)^2$\n",
    "* $49$ proviene de $7^2$"
   ]
  },
  {
   "cell_type": "markdown",
   "metadata": {},
   "source": [
    "Entonces, creemos que su factorización es\n",
    "$$ 4x^2-49=(2x)^2-7^2=(2x+7)(2x-7) $$"
   ]
  },
  {
   "cell_type": "markdown",
   "metadata": {},
   "source": [
    "Si hacemos esta operación vemos que es correcto y hemos encontrado los factores (o sea, los binomios) que multiplicados dan la expresión algebraica."
   ]
  },
  {
   "cell_type": "markdown",
   "metadata": {},
   "source": [
    "* ***Elemplo:***\n",
    "$$ 9x^2-6x+1 $$"
   ]
  },
  {
   "cell_type": "markdown",
   "metadata": {},
   "source": [
    "Notamos que la expresión anterior tiene tres términos. Los términos  elevados al cuadrado:\n",
    "* $9x^2$ proviene de $(3x)^2$\n",
    "* $1$ proviene de $1^2$\n",
    "\n",
    "Como hay un término en medio que es negativo y es el doble $(3x)(-1)$, nos da la idea de que se trata de un binomio al cuadrado."
   ]
  },
  {
   "cell_type": "markdown",
   "metadata": {},
   "source": [
    "Entonces, creemos que la factorización es\n",
    "$$ 9x^2-6x+1=(3x-1)^2=(3x-1)(3x-1) $$"
   ]
  },
  {
   "cell_type": "markdown",
   "metadata": {},
   "source": [
    "Si hacemos esta operación vemos que es correcto y hemos encontrado los factores de la expresión algebraica."
   ]
  },
  {
   "cell_type": "markdown",
   "metadata": {},
   "source": [
    "**¿Cómo hacemos una fractorización de algo que NO sea diferencia de cuadrados ni binomio al cuadrado?**"
   ]
  },
  {
   "cell_type": "markdown",
   "metadata": {},
   "source": [
    "Por ejemplo, $x^2+7x+10$."
   ]
  },
  {
   "cell_type": "markdown",
   "metadata": {},
   "source": [
    "Primero mencionaré las notas:\n",
    "* Pensemos que nos dan un trinomio general de la forma $$ x^2 + Ax + B$$ y que proviene de la multiplicación de dos binomios: $$ (x+c)(x+d) $$.\n",
    "* Nos fijamos en el coeficiente del tercer término del trinomio $B$.\n",
    "    * Si $B$ es positivo, $c$ y $d$ tendrán signos iguales.\n",
    "    * Si $B$ es negativo, $c$ y $d$ tendrán signos contrarios.\n",
    "* Si $B$ es positivo y $A$ es positivo entonces $c$ y $d$ son positivos; por lo tanto buscamos dos números que multiplicados entre sí den $B$ y sumados entre sí, $A$.\n",
    "* Si $B$ es positivo y $A$ es negativo entonces $c$ y $d$ son negativos; por lo tanto buscamos dos números que multiplicados entre sí den $B$ y sumados entre sí, $A$.\n",
    "* Si $B$ es negativo y $A$ es positivo entonces $c$ y $d$ tienen signos contrarios (uno de ellos, el más grande, es positivo y el otro, el más chico, es negativo); por lo tanto buscamos dos números que multiplicados entre sí den $B$ y restados entre sí, $A$.\n",
    "* Si $B$ es negativo y $A$ es negativo entonces $c$ y $d$ tienen signos contrarios (uno de ellos, el más chico, es positivo y el otro, el más grande, es negativo); por lo tanto buscamos dos números que multiplicados entre sí den $B$ y restados entre sí, $A$."
   ]
  },
  {
   "cell_type": "markdown",
   "metadata": {},
   "source": [
    "Ahora sí, vayamos a los ejemplos:"
   ]
  },
  {
   "cell_type": "markdown",
   "metadata": {},
   "source": [
    "* ***Ejemplo***\n",
    "$$x^2+7x+10$$"
   ]
  },
  {
   "cell_type": "markdown",
   "metadata": {},
   "source": [
    "Buscamos dos números que multiplicados entre sí den $10$ y sumados entre sí, $7.$\n",
    "\n",
    "Para obtener $10$ podemos tener:\n",
    "* $1\\cdot10$\n",
    "* $2\\cdot5$\n",
    "\n",
    "Pero la suma de estos factores es:\n",
    "* $1+10=11$\n",
    "* $2+5=7$\n",
    "\n",
    "Entonces, la factorización correcta es\n",
    "$$ x^2+7x+10=(x+2)(x+5) $$"
   ]
  },
  {
   "cell_type": "markdown",
   "metadata": {},
   "source": [
    "* ***Ejemplo***\n",
    "$$ y^2-15y+56 $$"
   ]
  },
  {
   "cell_type": "markdown",
   "metadata": {},
   "source": [
    "Buscamos dos números que multiplicados entre sí den $56$ y sumados entre sí, $15.$\n",
    "\n",
    "Para obtener $56$ podemos tener:\n",
    "* $1\\cdot56$\n",
    "* $2\\cdot28$\n",
    "* $4\\cdot14$\n",
    "* $7\\cdot8$\n",
    "\n",
    "Pero la suma de estos factores es:\n",
    "* $1+56=57$\n",
    "* $2+28=30$\n",
    "* $4+14=18$\n",
    "* $7+8=15$\n",
    "\n",
    "Entonces, la factorización correcta es\n",
    "$$ y^2-15y+56=(y-7)(y-8) $$"
   ]
  },
  {
   "cell_type": "markdown",
   "metadata": {},
   "source": [
    "* ***Ejemplo***\n",
    "$$ z^2+z-12 $$"
   ]
  },
  {
   "cell_type": "markdown",
   "metadata": {},
   "source": [
    "$$(z-3)(z+4)$$"
   ]
  },
  {
   "cell_type": "markdown",
   "metadata": {},
   "source": [
    "$$z^2+4z-3z-12$$"
   ]
  },
  {
   "cell_type": "markdown",
   "metadata": {},
   "source": [
    "$$z^2+z-12$$"
   ]
  },
  {
   "cell_type": "markdown",
   "metadata": {},
   "source": [
    "Buscamos dos números que multiplicados entre sí den $12$ y restados entre sí, $1.$\n",
    "\n",
    "Para obtener $12$ podemos tener:\n",
    "* $1\\cdot12$\n",
    "* $2\\cdot6$\n",
    "* $3\\cdot4$\n",
    "\n",
    "Pero la resta de estos factores es:\n",
    "* $12-1=11$\n",
    "* $6-2=4$\n",
    "* $4-3=1$\n",
    "\n",
    "Entonces, la factorización correcta es\n",
    "$$ z^2+z-12=(z-3)(z+4) $$"
   ]
  },
  {
   "cell_type": "markdown",
   "metadata": {},
   "source": [
    "* ***Ejemplo***\n",
    "$$ a^2-12a-64 $$"
   ]
  },
  {
   "cell_type": "markdown",
   "metadata": {},
   "source": [
    "Buscamos dos números que multiplicados entre sí den $64$ y restados entre sí, $12.$\n",
    "\n",
    "Para obtener $64$ podemos tener:\n",
    "* $1\\cdot64$\n",
    "* $2\\cdot32$\n",
    "* $4\\cdot16$\n",
    "* $8\\cdot8$\n",
    "\n",
    "Pero la suma de estos factores es:\n",
    "* $64-1=63$\n",
    "* $32-2=30$\n",
    "* $16-4=12$\n",
    "* $8-8=0$\n",
    "\n",
    "Entonces, la factorización correcta es\n",
    "$$ a^2-12a-64=(a+4)(a-16) $$"
   ]
  },
  {
   "cell_type": "markdown",
   "metadata": {},
   "source": [
    "**¿Cómo hacemos cuando el coeficiente del primer término no es $1$?**\n",
    "Podemos tomar algunas de las anotaciones que vimos antes pero tendremos que tantear un poco."
   ]
  },
  {
   "cell_type": "markdown",
   "metadata": {},
   "source": [
    "* ***Ejemplo***\n",
    "$$ 2b^2+5b-3 $$"
   ]
  },
  {
   "cell_type": "markdown",
   "metadata": {},
   "source": [
    "$$ (b+3)(2b-1) $$"
   ]
  },
  {
   "cell_type": "markdown",
   "metadata": {},
   "source": [
    "* ***Ejemplo***\n",
    "$$ 10c^2-7c-12 $$"
   ]
  },
  {
   "cell_type": "markdown",
   "metadata": {},
   "source": [
    "$$ (2c-3)(5c+4) $$"
   ]
  },
  {
   "cell_type": "markdown",
   "metadata": {},
   "source": [
    "* ***Ejemplo***\n",
    "$$ 3x^2+8x+4 $$"
   ]
  },
  {
   "cell_type": "markdown",
   "metadata": {},
   "source": [
    "$$(x+2)(3x+2)$$"
   ]
  },
  {
   "cell_type": "markdown",
   "metadata": {},
   "source": [
    "* ***Ejemplo***\n",
    "$$ 24y^2-30y+6 $$"
   ]
  },
  {
   "cell_type": "markdown",
   "metadata": {},
   "source": [
    "$$ 6(4y-1)(y-1) $$"
   ]
  },
  {
   "cell_type": "markdown",
   "metadata": {},
   "source": [
    "### Resolver ecuaciones de segundo grado mediante factorización"
   ]
  },
  {
   "cell_type": "markdown",
   "metadata": {},
   "source": [
    "* ***Ejemplo***\n",
    "$$x^2+7x+10=0$$"
   ]
  },
  {
   "cell_type": "markdown",
   "metadata": {},
   "source": [
    "Si usaramos *le Chicharronera* tendríamos  $a=1$, $b=7$, $c=10$"
   ]
  },
  {
   "cell_type": "markdown",
   "metadata": {},
   "source": [
    "$$ x=\\dfrac{-7\\pm\\sqrt{(7)^2-4(1)(10)}}{2(1)} $$"
   ]
  },
  {
   "cell_type": "markdown",
   "metadata": {},
   "source": [
    "$$ x=\\dfrac{-7\\pm\\sqrt{49-40}}{2} $$"
   ]
  },
  {
   "cell_type": "markdown",
   "metadata": {},
   "source": [
    "$$ x=\\dfrac{-7\\pm\\sqrt{9}}{2} $$"
   ]
  },
  {
   "cell_type": "markdown",
   "metadata": {},
   "source": [
    "$$ x=\\dfrac{-7\\pm3}{2} $$"
   ]
  },
  {
   "cell_type": "markdown",
   "metadata": {},
   "source": [
    "$$ x_1=\\dfrac{-7+3}{2}=\\dfrac{-4}{2}=-2 $$"
   ]
  },
  {
   "cell_type": "markdown",
   "metadata": {},
   "source": [
    "$$ x_2=\\dfrac{-7-3}{2}=\\dfrac{-10}{2}=-5 $$"
   ]
  },
  {
   "cell_type": "markdown",
   "metadata": {},
   "source": [
    "Por otro lado, la factorización es\n",
    "$$ x^2+7x+10=(x+2)(x+5)=0 $$"
   ]
  },
  {
   "cell_type": "markdown",
   "metadata": {},
   "source": [
    "Como la multiplicación de dos cosas es cero, al menos una de esas cosas tiene que ser cero."
   ]
  },
  {
   "cell_type": "markdown",
   "metadata": {},
   "source": [
    "Si $(x+2)=0$, podemos despejar $x$ y obtenemos\n",
    "\n",
    "$$x=-2$$"
   ]
  },
  {
   "cell_type": "markdown",
   "metadata": {},
   "source": [
    "Si $(x+5)=0$, podemos despejar $x$ y obtenemos\n",
    "\n",
    "$$x=-5$$"
   ]
  },
  {
   "cell_type": "markdown",
   "metadata": {},
   "source": [
    "Estas son las mismas soluciones que obtuvimos antes."
   ]
  },
  {
   "cell_type": "markdown",
   "metadata": {},
   "source": [
    "* ***Ejemplo***\n",
    "$$ 24y^2-30y+6=0 $$"
   ]
  },
  {
   "cell_type": "markdown",
   "metadata": {},
   "source": [
    "$$ 6(4y-1)(y-1)=0 $$"
   ]
  },
  {
   "cell_type": "markdown",
   "metadata": {},
   "source": [
    "Como la multiplicación de dos cosas es cero, al menos una de esas cosas tiene que ser cero."
   ]
  },
  {
   "cell_type": "markdown",
   "metadata": {},
   "source": [
    "Si $(4y-1)=0$, podemos despejar $y$ y obtenemos\n",
    "\n",
    "$y=\\dfrac{1}{4}$"
   ]
  },
  {
   "cell_type": "markdown",
   "metadata": {},
   "source": [
    "Si $(y-1)=0$, podemos despejar $y$ y obtenemos\n",
    "\n",
    "$y=1$"
   ]
  },
  {
   "cell_type": "markdown",
   "metadata": {},
   "source": [
    "Comprueben que esas son las mismas soluciones que se obtienen con *le Chicharronera*."
   ]
  }
 ],
 "metadata": {
  "@webio": {
   "lastCommId": null,
   "lastKernelId": null
  },
  "kernelspec": {
   "display_name": "Julia 1.1.0",
   "language": "julia",
   "name": "julia-1.1"
  },
  "language_info": {
   "file_extension": ".jl",
   "mimetype": "application/julia",
   "name": "julia",
   "version": "1.1.0"
  }
 },
 "nbformat": 4,
 "nbformat_minor": 4
}
