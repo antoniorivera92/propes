{
 "cells": [
  {
   "cell_type": "markdown",
   "metadata": {},
   "source": [
    "# Clase 4"
   ]
  },
  {
   "cell_type": "markdown",
   "metadata": {},
   "source": [
    "### División de expresiones algebraicas"
   ]
  },
  {
   "cell_type": "markdown",
   "metadata": {},
   "source": [
    "#### Polinomios entre monomios"
   ]
  },
  {
   "cell_type": "markdown",
   "metadata": {},
   "source": [
    "* ***Ejemplo***:"
   ]
  },
  {
   "cell_type": "markdown",
   "metadata": {},
   "source": [
    "$$ \\dfrac{2ab-84b^3}{2} $$"
   ]
  },
  {
   "cell_type": "markdown",
   "metadata": {},
   "source": [
    "$$ =\\dfrac{2ab}{2}+\\dfrac{-84b^3}{2} $$"
   ]
  },
  {
   "cell_type": "markdown",
   "metadata": {},
   "source": [
    "$$ =ab-42b^3 $$"
   ]
  },
  {
   "cell_type": "markdown",
   "metadata": {},
   "source": [
    "* ***Ejemplo***:"
   ]
  },
  {
   "cell_type": "markdown",
   "metadata": {},
   "source": [
    "$$ \\dfrac{7x^3y^2-93x^5y^9}{-3x^2y^2} $$"
   ]
  },
  {
   "cell_type": "markdown",
   "metadata": {},
   "source": [
    "$$ =\\dfrac{7x^3y^2}{-3x^2y^2}+\\dfrac{-93x^5y^9}{-3x^2y^2} $$"
   ]
  },
  {
   "cell_type": "markdown",
   "metadata": {},
   "source": [
    "$$ =-\\dfrac{7}{3}x+31x^3y^7 $$"
   ]
  },
  {
   "cell_type": "markdown",
   "metadata": {},
   "source": [
    "#### Polinomios entre polinomios"
   ]
  },
  {
   "cell_type": "markdown",
   "metadata": {},
   "source": [
    "Para hacer esto primero haremos una división normal:"
   ]
  },
  {
   "cell_type": "markdown",
   "metadata": {},
   "source": [
    "<img src=\"div1.png\" align=\"middle\" width=\"100\">"
   ]
  },
  {
   "cell_type": "markdown",
   "metadata": {},
   "source": [
    "Ahora separaremos cada número de la división en centenas, decenas y unidades."
   ]
  },
  {
   "cell_type": "markdown",
   "metadata": {},
   "source": [
    "<img src=\"div2.png\" align=\"middle\" width=\"200\">"
   ]
  },
  {
   "cell_type": "markdown",
   "metadata": {},
   "source": [
    "Algo parecido haremos para la división con variables."
   ]
  },
  {
   "cell_type": "markdown",
   "metadata": {},
   "source": [
    "Reglas:\n",
    "1. Escribimos el dividendo y el divisor en orden alfabético y en orden descendente de los exponentes de una de las lestras. Por ejemplo, para $-8+ab^3+2a^2b^2-b^4$ tomamos a la letra $b$ por lo que acomodamos como $-b^4+ab^3+2a^2b^2-8$.\n",
    "2. Multiplicamos algo por el primer término del divisor (afuera de la casita) para que sea igual al primer término del dividendo (dentro de la casita). Este algo se escribe en el cociente (arriba de la casita).\n",
    "3. Multiplicamos todo el divisor por el cociente y el resultado se ecribe, con el signo contrario, debajo de los términos parecidos en el dividendo.\n",
    "4. Se realiza la operación entre estos términos parecidos y el resultado se escribe debajo de los términos. Se baja un término del dividendo para que acompañe al último resultado y tengamos el mismo número de términos que en el divisor.\n",
    "5. Repetimos el proceso hasta que ya no queden más términos para bajar. Si el residuo es cero la división es completa y exacta. Si el residuo no es cero, este residuo se escribe como el numerador de una fracción cuyo denominador es el divisor y la fracción se agrega al cociente."
   ]
  },
  {
   "cell_type": "markdown",
   "metadata": {},
   "source": [
    "* ***Ejemplo***:"
   ]
  },
  {
   "cell_type": "markdown",
   "metadata": {},
   "source": [
    "Queremos obtener el cociente de\n",
    "$$ \\dfrac{6a^4b^2+7a^3b^3+4a^2b^4+ab^5}{2ab^2+b^3} $$"
   ]
  },
  {
   "cell_type": "markdown",
   "metadata": {},
   "source": [
    "Hacemos el método de la casita."
   ]
  },
  {
   "cell_type": "markdown",
   "metadata": {},
   "source": [
    "<img src=\"div3.png\" align=\"middle\" width=\"330\">"
   ]
  },
  {
   "cell_type": "markdown",
   "metadata": {},
   "source": [
    "Entonces\n",
    "$$ \\dfrac{6a^4b^2+7a^3b^3+4a^2b^4+ab^5}{2ab^2+b^3}=3a^3+2a^2b+ab^2 $$"
   ]
  },
  {
   "cell_type": "markdown",
   "metadata": {},
   "source": [
    "Es fácil comprobar esto multiplicando el divisor por el cociente."
   ]
  },
  {
   "cell_type": "markdown",
   "metadata": {},
   "source": [
    "$$\\dfrac{6a^4b^2 + 7a^3b^3 + 4a^2b^4+ab^5}{2ab^2+b^3}=3a^3+  2a^2b  + ab^2$$"
   ]
  },
  {
   "cell_type": "markdown",
   "metadata": {},
   "source": [
    "$$ (2ab^2+b^3)(3a^3+  2a^2b  + ab^2) $$"
   ]
  },
  {
   "cell_type": "markdown",
   "metadata": {},
   "source": [
    "$$ 6a^4b^2+4a^3b^3+2a^2b^4+3a^3b^3+2a^2b^4+ab^5 $$"
   ]
  },
  {
   "cell_type": "markdown",
   "metadata": {},
   "source": [
    "$$ 6a^4b^2+7a^3b^3+4a^2b^4+ab^5 $$"
   ]
  },
  {
   "cell_type": "markdown",
   "metadata": {},
   "source": [
    "Antes de hacer el siguiente ejemplo, veamos la siguiente división:"
   ]
  },
  {
   "cell_type": "markdown",
   "metadata": {},
   "source": [
    "<img src=\"div4.png\" align=\"middle\" width=\"52\">"
   ]
  },
  {
   "cell_type": "markdown",
   "metadata": {},
   "source": [
    "Como tenemos un residuo, lo ponemos como el numerador de una fracción con el divisor como el denominador, y esto lo sumamos al cociente. Entonces, el resultado es"
   ]
  },
  {
   "cell_type": "markdown",
   "metadata": {},
   "source": [
    "$$ \\dfrac{7}{3}=2+\\dfrac{1}{3} $$"
   ]
  },
  {
   "cell_type": "markdown",
   "metadata": {},
   "source": [
    "* ***Ejemplo***:"
   ]
  },
  {
   "cell_type": "markdown",
   "metadata": {},
   "source": [
    "Queremos obtener el cociente de\n",
    "$$ \\dfrac{x^2-3x+5}{x-1} $$"
   ]
  },
  {
   "cell_type": "markdown",
   "metadata": {},
   "source": [
    "Hacemos el método de la casita."
   ]
  },
  {
   "cell_type": "markdown",
   "metadata": {},
   "source": [
    "<img src=\"div5.png\" align=\"middle\" width=\"160\">"
   ]
  },
  {
   "cell_type": "markdown",
   "metadata": {},
   "source": [
    "Entonces\n",
    "$$\\dfrac{x^2-3x+5}{x-1}=x-2+\\dfrac{+3}{x-1} $$"
   ]
  },
  {
   "cell_type": "markdown",
   "metadata": {},
   "source": [
    "Es fácil comprobar esto multiplicando el divisor por el resultado."
   ]
  },
  {
   "cell_type": "markdown",
   "metadata": {},
   "source": [
    "$$ (x-1)\\left(x-2+\\dfrac{+3}{x-1}\\right) $$"
   ]
  },
  {
   "cell_type": "markdown",
   "metadata": {},
   "source": [
    "$$ =(x-1)(x-2)+(x-1)\\dfrac{+3}{x-1} $$"
   ]
  },
  {
   "cell_type": "markdown",
   "metadata": {},
   "source": [
    "$$ =x^2-2x-x+2+\\dfrac{(x-1)\\,3}{x-1} $$"
   ]
  },
  {
   "cell_type": "markdown",
   "metadata": {},
   "source": [
    "$$ =x^2-2x-x+2+3 $$"
   ]
  },
  {
   "cell_type": "markdown",
   "metadata": {},
   "source": [
    "$$ =x^2-3x+5 $$"
   ]
  },
  {
   "cell_type": "markdown",
   "metadata": {},
   "source": [
    "*Cuando el residuo de una división de expresiones algebraica es cero, el divisor es un factor del dividendo (o sea, encontramos una factorización).*"
   ]
  },
  {
   "cell_type": "markdown",
   "metadata": {},
   "source": [
    "## Polinomios y ecuaciones"
   ]
  },
  {
   "cell_type": "markdown",
   "metadata": {},
   "source": [
    "### Polinomios"
   ]
  },
  {
   "cell_type": "markdown",
   "metadata": {},
   "source": [
    "$$ 2x^5-3x^4+4x^3-5x^2+6x-7 $$"
   ]
  },
  {
   "cell_type": "markdown",
   "metadata": {},
   "source": [
    "Es un polinomio porque tenemos una suma de varios términos algebraicos que tienen coeficiente, variable y exponente positivo y entero. En ese sentido $-2x^{-2}+9x^{-5}$ no es un polinomio."
   ]
  },
  {
   "cell_type": "markdown",
   "metadata": {},
   "source": [
    "Decimos que el grado de un polinomio es el exponente más grande sobre la variable."
   ]
  },
  {
   "cell_type": "markdown",
   "metadata": {},
   "source": [
    "El polinomio del ejemplo anterior es de grado 5."
   ]
  },
  {
   "cell_type": "markdown",
   "metadata": {},
   "source": [
    "Si quitamos el primer término del ejemplo anterior,\n",
    "$$ -3x^4+4x^3-5x^2+6x-7 $$\n",
    "se vuelve un polinomio de grado 4 (y así sucesivamente)."
   ]
  },
  {
   "cell_type": "markdown",
   "metadata": {},
   "source": [
    "### Ecuaciones"
   ]
  },
  {
   "cell_type": "markdown",
   "metadata": {},
   "source": [
    "Para que un polinomio se convierta en una ecuación basta que igualemos el polinomio a otra cosa. Por ejemplo,"
   ]
  },
  {
   "cell_type": "markdown",
   "metadata": {},
   "source": [
    "$$ 2x^5-3x^4+4x^3-5x^2+6x-7=10 $$"
   ]
  },
  {
   "cell_type": "markdown",
   "metadata": {},
   "source": [
    "Cuando se hace esto se suele pasar todos los términos para el mismo lado y dejar un cero del otro lado:"
   ]
  },
  {
   "cell_type": "markdown",
   "metadata": {},
   "source": [
    "$$ 2x^5-3x^4+4x^3-5x^2+6x-17=0 $$"
   ]
  },
  {
   "cell_type": "markdown",
   "metadata": {},
   "source": [
    "De manera parecida al caso de los polinomios usaremos que el grado de un polinomio es el exponente más grande sobre la variable. La ecuación del ejemplo anterior es de grado 5."
   ]
  },
  {
   "cell_type": "markdown",
   "metadata": {},
   "source": [
    "####  Ecuaciones de primer grado (o lineales)"
   ]
  },
  {
   "cell_type": "markdown",
   "metadata": {},
   "source": [
    "La forma más general de una ecuación lineal es\n",
    "$$ ax+b=0 $$"
   ]
  },
  {
   "cell_type": "markdown",
   "metadata": {},
   "source": [
    "La solución más general de una ecuación lineal es\n",
    "$$ x=-\\dfrac{b}{a} $$"
   ]
  },
  {
   "cell_type": "markdown",
   "metadata": {},
   "source": [
    "* ***Ejemplo***:"
   ]
  },
  {
   "cell_type": "markdown",
   "metadata": {},
   "source": [
    "$$ 2x-10=0 $$"
   ]
  },
  {
   "cell_type": "markdown",
   "metadata": {},
   "source": [
    "$$ 2x=+10 $$"
   ]
  },
  {
   "cell_type": "markdown",
   "metadata": {},
   "source": [
    "$$ x=\\dfrac{+10}{2} $$"
   ]
  },
  {
   "cell_type": "markdown",
   "metadata": {},
   "source": [
    "$$ x=5 $$"
   ]
  },
  {
   "cell_type": "markdown",
   "metadata": {},
   "source": [
    "Comprobación: Si $x=5$"
   ]
  },
  {
   "cell_type": "markdown",
   "metadata": {},
   "source": [
    "$$ 2x-10=2(5)-10=0 $$"
   ]
  },
  {
   "cell_type": "markdown",
   "metadata": {},
   "source": [
    "* ***Ejemplo***:"
   ]
  },
  {
   "cell_type": "markdown",
   "metadata": {},
   "source": [
    "$$ \\dfrac{3x-7}{2x-1}=5 $$"
   ]
  },
  {
   "cell_type": "markdown",
   "metadata": {},
   "source": [
    "$$ 3x-7=5(2x-1) $$"
   ]
  },
  {
   "cell_type": "markdown",
   "metadata": {},
   "source": [
    "$$ 3x-7=10x-5 $$"
   ]
  },
  {
   "cell_type": "markdown",
   "metadata": {},
   "source": [
    "$$ 3x-7-10x=-5 $$"
   ]
  },
  {
   "cell_type": "markdown",
   "metadata": {},
   "source": [
    "$$ 3x-10x=-5+7 $$"
   ]
  },
  {
   "cell_type": "markdown",
   "metadata": {},
   "source": [
    "$$ -7x=2 $$"
   ]
  },
  {
   "cell_type": "markdown",
   "metadata": {},
   "source": [
    "$$ x=\\dfrac{2}{-7}=-\\dfrac{2}{7} $$"
   ]
  },
  {
   "cell_type": "markdown",
   "metadata": {},
   "source": [
    "Comprobación: Si $x=-\\dfrac{2}{7}$"
   ]
  },
  {
   "cell_type": "markdown",
   "metadata": {},
   "source": [
    "$$ \\dfrac{3x-7}{2x-1}=\\dfrac{3\\left(-\\dfrac{2}{7}\\right)-7}{2\\left(-\\dfrac{2}{7}\\right)-1}=\\dfrac{-\\dfrac{6}{7}-7}{\\left(-\\dfrac{4}{7}\\right)-1}=\\dfrac{\\dfrac{-6-49}{7}}{\\dfrac{-4-7}{7}}=\\dfrac{\\dfrac{-55}{7}}{\\dfrac{-11}{7}}=\\dfrac{-55\\cdot7}{-11\\cdot7}=\\dfrac{-55}{-11}=5 $$"
   ]
  },
  {
   "cell_type": "markdown",
   "metadata": {},
   "source": [
    "#### Ecuación de segundo grado (cuadrático)"
   ]
  },
  {
   "cell_type": "markdown",
   "metadata": {},
   "source": [
    "La forma más general de una ecuación lineal es\n",
    "$$ ax^2+bx+c=0 $$"
   ]
  },
  {
   "cell_type": "markdown",
   "metadata": {},
   "source": [
    "La solución más general de una ecuación lineal es\n",
    "$$ x=\\dfrac{-b\\pm\\sqrt{b^2-4ac}}{2a} $$"
   ]
  }
 ],
 "metadata": {
  "@webio": {
   "lastCommId": null,
   "lastKernelId": null
  },
  "kernelspec": {
   "display_name": "Julia 1.1.0",
   "language": "julia",
   "name": "julia-1.1"
  },
  "language_info": {
   "file_extension": ".jl",
   "mimetype": "application/julia",
   "name": "julia",
   "version": "1.1.0"
  }
 },
 "nbformat": 4,
 "nbformat_minor": 4
}
