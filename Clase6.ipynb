{
 "cells": [
  {
   "cell_type": "markdown",
   "metadata": {},
   "source": [
    "# Clase 6"
   ]
  },
  {
   "cell_type": "markdown",
   "metadata": {},
   "source": [
    "## División sintética"
   ]
  },
  {
   "cell_type": "markdown",
   "metadata": {},
   "source": [
    "Reglas:\n",
    "1. Si queremos dividir el polinomio $23x^4+10x^3-16x^2-8x+3$ entre $x-3$ escribimos los coeficientes del dividendo como en el siguiente diagrama\n",
    "   <img src=\"ds1.png\" align=\"middle\" width=\"300\">\n",
    "   Vamos a escribir el coeficiente del segundo término del divisor ($-3$) del lado izquierdo del diagrama, con el signo contrario.\n",
    "   <img src=\"ds2.png\" align=\"middle\" width=\"300\">"
   ]
  },
  {
   "cell_type": "markdown",
   "metadata": {},
   "source": [
    "2. Vamos a bajar el primer coeficiente del lado derecho.\n",
    "<img src=\"ds3.png\" align=\"middle\" width=\"300\">"
   ]
  },
  {
   "cell_type": "markdown",
   "metadata": {},
   "source": [
    "3. Multiplicamos el coeficiente del lado izquierdo por el último coeficiente que ha sido bajado y ese resultado lo colocamos debajo del siguiente coeficiente de la derecha.\n",
    "<img src=\"ds4.png\" align=\"middle\" width=\"300\">"
   ]
  },
  {
   "cell_type": "markdown",
   "metadata": {},
   "source": [
    "4. Vamos a sumar los coeficientes que se encuentran en una misma columna.\n",
    "<img src=\"ds5.png\" align=\"middle\" width=\"300\">"
   ]
  },
  {
   "cell_type": "markdown",
   "metadata": {},
   "source": [
    "5. Vamos a repetir los pasos 3 y 4 hasta que ya no queden coeficientes por bajar.\n",
    "<img src=\"ds6.png\" align=\"middle\" width=\"300\">"
   ]
  },
  {
   "cell_type": "markdown",
   "metadata": {},
   "source": [
    "6. El resultado de esta división debe ser un polinomio con grado menos uno del polinomio original (o sea, si el polinomio al queremos dividir es de grado $10$, el polinomio resultante debe ser de grado $9$). Entonces, para escribir el resultado escribimos el primer coeficiente de la derecha multiplicado por $x^3$, el siguiente por $x^2$, y así sucesivamente. El último número de la fila de los resultados es el **residuo**. Si el residuo es es cero, la división es exacta; si no es cero, se agrega al cociente, dividido entre el divisor (denominador).\n",
    "\n",
    "$$ \\dfrac{23x^4+10x^3-16x^2-8x+3}{x-3}=23x^3+79x^2+221x+655+\\dfrac{1968}{x-3} $$"
   ]
  },
  {
   "cell_type": "markdown",
   "metadata": {},
   "source": [
    "## Evaluación de un polinomio"
   ]
  },
  {
   "cell_type": "markdown",
   "metadata": {},
   "source": [
    "*Evaluar un polinomio* significa remplazar toda $x$ por un valor hasta obtener un valor final."
   ]
  },
  {
   "cell_type": "markdown",
   "metadata": {},
   "source": [
    "* ***Ejemplo:***"
   ]
  },
  {
   "cell_type": "markdown",
   "metadata": {},
   "source": [
    "Tenemos el polinomio $x^2+3x-5$."
   ]
  },
  {
   "cell_type": "markdown",
   "metadata": {},
   "source": [
    "Queremos saber cuánto vale el polinomio cuando $x=4$"
   ]
  },
  {
   "cell_type": "markdown",
   "metadata": {},
   "source": [
    "$$(4)^2+3(4)-5$$"
   ]
  },
  {
   "cell_type": "markdown",
   "metadata": {},
   "source": [
    "$$=16+12-5$$"
   ]
  },
  {
   "cell_type": "markdown",
   "metadata": {},
   "source": [
    "$$=23$$"
   ]
  },
  {
   "cell_type": "markdown",
   "metadata": {},
   "source": [
    "## Teorema del residuo"
   ]
  },
  {
   "cell_type": "markdown",
   "metadata": {},
   "source": [
    "*El resultado de evaluar un polinomio en $a$ es equivalente al residuo de la división del polinomio entre $x-a$.*"
   ]
  },
  {
   "cell_type": "markdown",
   "metadata": {},
   "source": [
    "* ***Ejemplo:***\n",
    "$$ \\dfrac{23x^4+10x^3-16x^2-8x+3}{x-3}=23x^3+79x^2+221x+655+\\dfrac{1968}{x-3} $$"
   ]
  },
  {
   "cell_type": "markdown",
   "metadata": {},
   "source": [
    "El residuo de esta división fue de 1968."
   ]
  },
  {
   "cell_type": "markdown",
   "metadata": {},
   "source": [
    "Usando el teorema del residuo para esto, tomamos $a=3$. Vamos a evaluar el polinomio $23x^4+10x^3-16x^2-8x+3$ en $3$:"
   ]
  },
  {
   "cell_type": "markdown",
   "metadata": {},
   "source": [
    "$$23(3)^4+10(3)^3-16(3)^2-8(3)+3$$"
   ]
  },
  {
   "cell_type": "markdown",
   "metadata": {},
   "source": [
    "¡Qué flojera! Que lo haga la compu."
   ]
  },
  {
   "cell_type": "code",
   "execution_count": 3,
   "metadata": {},
   "outputs": [
    {
     "data": {
      "text/plain": [
       "1968"
      ]
     },
     "execution_count": 3,
     "metadata": {},
     "output_type": "execute_result"
    }
   ],
   "source": [
    "23(3)^4+10(3)^3-16(3)^2-8(3)+3"
   ]
  },
  {
   "cell_type": "markdown",
   "metadata": {},
   "source": [
    "* ***Ejemplo:***\n",
    "\n",
    "Encuentra el residuo de la siguiente división:\n",
    "$$ \\dfrac{4x^2+8x-20}{x+5}$$"
   ]
  },
  {
   "cell_type": "markdown",
   "metadata": {},
   "source": [
    "Por el teorema del residuo, podemos encontrar rápidamente el residuo de la división si evaluamos el polinomio del numerador en $a=-5$ :"
   ]
  },
  {
   "cell_type": "markdown",
   "metadata": {},
   "source": [
    "$$ 4(-5)^2+8(-5)-20 $$"
   ]
  },
  {
   "cell_type": "markdown",
   "metadata": {},
   "source": [
    "$$ =4(25)+8(-5)-20 $$"
   ]
  },
  {
   "cell_type": "markdown",
   "metadata": {},
   "source": [
    "$$ =100-40-20 $$"
   ]
  },
  {
   "cell_type": "markdown",
   "metadata": {},
   "source": [
    "$$ =40 $$"
   ]
  },
  {
   "cell_type": "markdown",
   "metadata": {},
   "source": [
    "Si hacen la división sintética de esto encontrarán que nuestro resultado es correcto:"
   ]
  },
  {
   "cell_type": "markdown",
   "metadata": {},
   "source": [
    "$$ \\dfrac{4x^2+8x-20}{x+5}=4x-12+\\dfrac{40}{x+5} $$"
   ]
  },
  {
   "cell_type": "markdown",
   "metadata": {},
   "source": [
    "## Teorema del factor"
   ]
  },
  {
   "cell_type": "markdown",
   "metadata": {},
   "source": [
    "*Si el resultado de evaluar un polinomio en $a$ es cero, entonces $(x-a)$ es un factor del polinomio.*"
   ]
  },
  {
   "cell_type": "markdown",
   "metadata": {},
   "source": [
    "* ***Ejemplo:***\n",
    "\n",
    "$$ x^2 +7x+ 10$$"
   ]
  },
  {
   "cell_type": "markdown",
   "metadata": {},
   "source": [
    "Lo evalúo en $x=-5$\n",
    "\n",
    "$$ (-5)^2 +7(-5)+ 10$$"
   ]
  },
  {
   "cell_type": "markdown",
   "metadata": {},
   "source": [
    "$$ =25 -35+ 10$$"
   ]
  },
  {
   "cell_type": "markdown",
   "metadata": {},
   "source": [
    "$$ =0 $$"
   ]
  },
  {
   "cell_type": "markdown",
   "metadata": {},
   "source": [
    "Entonces sabemos que \n",
    "$$ x^2 +7x+ 10=(x+5)(\\qquad)$$"
   ]
  },
  {
   "cell_type": "markdown",
   "metadata": {},
   "source": [
    "De hecho, por el tema de factorización sabemos que\n",
    "$$ x^2 +7x+ 10=(x+5)(x+2)$$"
   ]
  },
  {
   "cell_type": "markdown",
   "metadata": {},
   "source": [
    "## Sistemas de ecuaciones (lineales)"
   ]
  },
  {
   "cell_type": "markdown",
   "metadata": {},
   "source": [
    "Imaginen que pregunto cuáles son los dos números cuya suma me da $5$. Esto se puede escribir en lenguaje algebraico como\n",
    "\n",
    "$$ x+y=5 $$"
   ]
  },
  {
   "cell_type": "markdown",
   "metadata": {},
   "source": [
    "Las posibilidades son infinitas."
   ]
  },
  {
   "cell_type": "markdown",
   "metadata": {},
   "source": [
    "$$x=0\\quad,\\quad y=5$$"
   ]
  },
  {
   "cell_type": "markdown",
   "metadata": {},
   "source": [
    "$$x=1\\quad,\\quad y=4$$"
   ]
  },
  {
   "cell_type": "markdown",
   "metadata": {},
   "source": [
    "$$x=2\\quad,\\quad y=3$$"
   ]
  },
  {
   "cell_type": "markdown",
   "metadata": {},
   "source": [
    "$$x=3\\quad,\\quad y=2$$"
   ]
  },
  {
   "cell_type": "markdown",
   "metadata": {},
   "source": [
    "$$x=3.1\\quad,\\quad y=1.9$$"
   ]
  },
  {
   "cell_type": "markdown",
   "metadata": {},
   "source": [
    "Lo mismo sucede si pregunto cuáles son los dos números cuya resta me da $1$. Esto se puede escribir en lenguaje algebraico como\n",
    "\n",
    "$$ x-y=1 $$"
   ]
  },
  {
   "cell_type": "markdown",
   "metadata": {},
   "source": [
    "$$x=0\\quad,\\quad y=-1$$"
   ]
  },
  {
   "cell_type": "markdown",
   "metadata": {},
   "source": [
    "$$x=1\\quad,\\quad y=0$$"
   ]
  },
  {
   "cell_type": "markdown",
   "metadata": {},
   "source": [
    "$$x=2\\quad,\\quad y=1$$"
   ]
  },
  {
   "cell_type": "markdown",
   "metadata": {},
   "source": [
    "$$x=3\\quad,\\quad y=2$$"
   ]
  },
  {
   "cell_type": "markdown",
   "metadata": {},
   "source": [
    "Pero si pido que ambas condiciones se cumplan simultáneamente, sólo existe una respuesta posible: $x=3\\ $ y $\\ y=2$."
   ]
  },
  {
   "cell_type": "markdown",
   "metadata": {},
   "source": [
    "Se dice que estas condiciones forman un sistema de ecuaciones:"
   ]
  },
  {
   "cell_type": "markdown",
   "metadata": {},
   "source": [
    "\\begin{equation}\n",
    "\\begin{cases}\n",
    "x+y=5\\\\\n",
    "x-y=1\n",
    "\\end{cases}\n",
    "\\end{equation}"
   ]
  },
  {
   "cell_type": "markdown",
   "metadata": {},
   "source": [
    "### Regla de Cramer (método de determinantes)"
   ]
  },
  {
   "cell_type": "markdown",
   "metadata": {},
   "source": [
    "Vamos a pensar que tenemos un sistema de ecuaciones de la siguiente forma"
   ]
  },
  {
   "cell_type": "markdown",
   "metadata": {},
   "source": [
    "\\begin{equation}\n",
    "\\begin{cases}\n",
    "a_{11}x+a_{12}y=b_1\\\\\n",
    "a_{21}x+a_{22}y=b_2\n",
    "\\end{cases}\n",
    "\\end{equation}"
   ]
  },
  {
   "cell_type": "markdown",
   "metadata": {},
   "source": [
    "Vamos a obtener el determinante. Para esto primero escribimos los coeficientes que acompañana a cada variable de la siguiente forma:"
   ]
  },
  {
   "cell_type": "markdown",
   "metadata": {},
   "source": [
    "\\begin{equation}\n",
    "\\Delta=\\begin{pmatrix}\n",
    "a_{11} & a_{12}\\\\\n",
    "a_{21} & a_{22}\n",
    "\\end{pmatrix}\n",
    "\\end{equation}"
   ]
  },
  {
   "cell_type": "markdown",
   "metadata": {},
   "source": [
    "Para obtener el determinante se multiplica el coeficiente que está en la esquina superior izquierda por el coeficiente que está en la esquina inferior derecha y esto lo restamos al coeficiente de la esquina inferior izquierda multiplicado por el coeficiente de la esquina superior derecha; obtenemos:"
   ]
  },
  {
   "cell_type": "markdown",
   "metadata": {},
   "source": [
    "$$ \\Delta=+(a_{11})(a_{22})-(a_{21})(a_{12}) $$\n",
    "**(¡Recuerden respetar los signos de cada coeficiente!)**"
   ]
  },
  {
   "cell_type": "markdown",
   "metadata": {},
   "source": [
    "Ahora, para obtener el valor de $x$, en el determinante original sustituimos en la primera columna los coeficientes del lado derecho del sistema de ecuaciones y calculamos este nuevo determinante."
   ]
  },
  {
   "cell_type": "markdown",
   "metadata": {},
   "source": [
    "\\begin{equation}\n",
    "\\Delta_x=\\begin{pmatrix}\n",
    "b_{1} & a_{12}\\\\\n",
    "b_{2} & a_{22}\n",
    "\\end{pmatrix}\n",
    "=+(b_1)(a_{22})-(b_2)(a_{12})\n",
    "\\end{equation}"
   ]
  },
  {
   "cell_type": "markdown",
   "metadata": {},
   "source": [
    "Finalmente, el valor de $x$ se obtiene al hacer la división:"
   ]
  },
  {
   "cell_type": "markdown",
   "metadata": {},
   "source": [
    "$$ x=\\frac{\\Delta_x}{\\Delta} $$"
   ]
  },
  {
   "cell_type": "markdown",
   "metadata": {},
   "source": [
    "Usaremos proceso análogo para calcular $y$:"
   ]
  },
  {
   "cell_type": "markdown",
   "metadata": {},
   "source": [
    "En el determinante original sustituimos en la segunda columna los coeficientes del lado derecho del sistema de ecuaciones y calculamos el determinante:"
   ]
  },
  {
   "cell_type": "markdown",
   "metadata": {},
   "source": [
    "\\begin{equation}\n",
    "\\Delta_y=\\begin{pmatrix}\n",
    "a_{11} & b_{1}\\\\\n",
    "a_{21} & b_{2}\n",
    "\\end{pmatrix}\n",
    "=+(a_{11})(b_2)-(a_{21})(b_1)\n",
    "\\end{equation}"
   ]
  },
  {
   "cell_type": "markdown",
   "metadata": {},
   "source": [
    "Finalmente, el valor de $y$ se obtiene al hacer la división:"
   ]
  },
  {
   "cell_type": "markdown",
   "metadata": {},
   "source": [
    "$$ y=\\frac{\\Delta_y}{\\Delta} $$"
   ]
  },
  {
   "cell_type": "markdown",
   "metadata": {},
   "source": [
    "* ***Ejemplo:***"
   ]
  },
  {
   "cell_type": "markdown",
   "metadata": {},
   "source": [
    "\\begin{equation}\n",
    "\\begin{cases}\n",
    "x+y=5\\\\\n",
    "x-y=1\n",
    "\\end{cases}\n",
    "\\end{equation}"
   ]
  },
  {
   "cell_type": "markdown",
   "metadata": {},
   "source": [
    "\\begin{equation}\n",
    "\\Delta=\n",
    "\\begin{pmatrix}\n",
    "1&1\\\\\n",
    "1&-1\n",
    "\\end{pmatrix}\n",
    "\\end{equation}"
   ]
  },
  {
   "cell_type": "markdown",
   "metadata": {},
   "source": [
    "$$ \\Delta=+(1)(-1)-(1)(1) $$"
   ]
  },
  {
   "cell_type": "markdown",
   "metadata": {},
   "source": [
    "$$ \\Delta=-1-1=-2 $$"
   ]
  },
  {
   "cell_type": "markdown",
   "metadata": {},
   "source": [
    "\\begin{equation}\n",
    "\\Delta_x=\n",
    "\\begin{pmatrix}\n",
    "5&1\\\\\n",
    "1&-1\n",
    "\\end{pmatrix}\n",
    "\\end{equation}"
   ]
  },
  {
   "cell_type": "markdown",
   "metadata": {},
   "source": [
    "$$ \\Delta_x=+(5)(-1)-(1)(1) $$"
   ]
  },
  {
   "cell_type": "markdown",
   "metadata": {},
   "source": [
    "$$ \\Delta_x=-5-1=-6 $$"
   ]
  },
  {
   "cell_type": "markdown",
   "metadata": {},
   "source": [
    "$$ x=\\frac{\\Delta_x}{\\Delta} $$"
   ]
  },
  {
   "cell_type": "markdown",
   "metadata": {},
   "source": [
    "$$ x=\\frac{-6}{-2}=3 $$"
   ]
  },
  {
   "cell_type": "markdown",
   "metadata": {},
   "source": [
    "\\begin{equation}\n",
    "\\Delta_y=\n",
    "\\begin{pmatrix}\n",
    "1&5\\\\\n",
    "1&1\n",
    "\\end{pmatrix}\n",
    "\\end{equation}"
   ]
  },
  {
   "cell_type": "markdown",
   "metadata": {},
   "source": [
    "$$ \\Delta_y=+(1)(1)-(1)(5) $$"
   ]
  },
  {
   "cell_type": "markdown",
   "metadata": {},
   "source": [
    "$$ \\Delta_y=1-5=-4 $$"
   ]
  },
  {
   "cell_type": "markdown",
   "metadata": {},
   "source": [
    "$$ y=\\frac{\\Delta_y}{\\Delta} $$"
   ]
  },
  {
   "cell_type": "markdown",
   "metadata": {},
   "source": [
    "$$ y=\\frac{-4}{-2}=2 $$"
   ]
  },
  {
   "cell_type": "markdown",
   "metadata": {},
   "source": [
    "Por lo tanto, el resultado correcto es $x=3\\ $ y $\\ y=2$, como habíamos obtenido antes."
   ]
  },
  {
   "cell_type": "markdown",
   "metadata": {},
   "source": [
    "## Cómo plantear problemas de sistemas de ecuaciones"
   ]
  },
  {
   "cell_type": "markdown",
   "metadata": {},
   "source": [
    "* ***Ejemplo:***"
   ]
  },
  {
   "cell_type": "markdown",
   "metadata": {},
   "source": [
    "   Una pastora y un pastor, Xóchitl y Yahir, llevan a sus ovejas a pastar y se encuentran en el camino. Se ponen a platicar y en medio de la plática dicen:\n",
    "\n",
    "**X(óchitl):** Si me dieras una de tus ovejas yo tendría el doble que tú.\n",
    "\n",
    "**Y(ahir):** Pero si tú me dieras una de tus ovejas tendríamos las mismas.\n",
    "\n",
    "¿Cuántas ovejas tiene cada quien?"
   ]
  },
  {
   "cell_type": "markdown",
   "metadata": {},
   "source": [
    "$X$: cantidad de ovejas que tiene Xóchitl\n",
    "\n",
    "$Y$: cantidad de ovejas que tiene Yahir"
   ]
  },
  {
   "cell_type": "markdown",
   "metadata": {},
   "source": [
    "Alguien encontró que la solución es $X=7\\ $ y $\\ Y=5$:"
   ]
  },
  {
   "cell_type": "markdown",
   "metadata": {},
   "source": [
    "* Primera ecuación"
   ]
  },
  {
   "cell_type": "markdown",
   "metadata": {},
   "source": [
    "$$X+1=2(Y-1)$$"
   ]
  },
  {
   "cell_type": "markdown",
   "metadata": {},
   "source": [
    "$$X+1=2Y-2$$"
   ]
  },
  {
   "cell_type": "markdown",
   "metadata": {},
   "source": [
    "$$X+1-2Y=-2$$"
   ]
  },
  {
   "cell_type": "markdown",
   "metadata": {},
   "source": [
    "$$X-2Y=-2-1$$"
   ]
  },
  {
   "cell_type": "markdown",
   "metadata": {},
   "source": [
    "$$X-2Y=-3$$"
   ]
  },
  {
   "cell_type": "markdown",
   "metadata": {},
   "source": [
    "* Segunda ecuación"
   ]
  },
  {
   "cell_type": "markdown",
   "metadata": {},
   "source": [
    "$$ X-1=Y+1 $$"
   ]
  },
  {
   "cell_type": "markdown",
   "metadata": {},
   "source": [
    "$$ X=Y+1+1 $$"
   ]
  },
  {
   "cell_type": "markdown",
   "metadata": {},
   "source": [
    "$$ X-Y=+1+1 $$"
   ]
  },
  {
   "cell_type": "markdown",
   "metadata": {},
   "source": [
    "$$ X-Y=2 $$"
   ]
  },
  {
   "cell_type": "markdown",
   "metadata": {},
   "source": [
    "\\begin{equation}\n",
    "\\begin{cases}\n",
    "X-2Y=-3\\\\\n",
    "X-Y=2\n",
    "\\end{cases}\n",
    "\\end{equation}"
   ]
  },
  {
   "cell_type": "markdown",
   "metadata": {},
   "source": [
    "\\begin{equation}\n",
    "\\Delta=\n",
    "\\begin{pmatrix}\n",
    "1&-2\\\\\n",
    "1&-1\n",
    "\\end{pmatrix}\n",
    "\\end{equation}"
   ]
  },
  {
   "cell_type": "markdown",
   "metadata": {},
   "source": [
    "$$ \\Delta=+(1)(-1)-(1)(-2) $$"
   ]
  },
  {
   "cell_type": "markdown",
   "metadata": {},
   "source": [
    "$$ \\Delta=-1+2=1 $$"
   ]
  },
  {
   "cell_type": "markdown",
   "metadata": {},
   "source": [
    "\\begin{equation}\n",
    "\\Delta_X=\n",
    "\\begin{pmatrix}\n",
    "-3&-2\\\\\n",
    "2&-1\n",
    "\\end{pmatrix}\n",
    "\\end{equation}"
   ]
  },
  {
   "cell_type": "markdown",
   "metadata": {},
   "source": [
    "$$ \\Delta_X=+(-3)(-1)-(2)(-2) $$"
   ]
  },
  {
   "cell_type": "markdown",
   "metadata": {},
   "source": [
    "$$ \\Delta_X=+3+4=7 $$"
   ]
  },
  {
   "cell_type": "markdown",
   "metadata": {},
   "source": [
    "$$ X=\\frac{\\Delta_X}{\\Delta} $$"
   ]
  },
  {
   "cell_type": "markdown",
   "metadata": {},
   "source": [
    "$$ X=\\frac{7}{1}=7 $$"
   ]
  },
  {
   "cell_type": "markdown",
   "metadata": {},
   "source": [
    "\\begin{equation}\n",
    "\\Delta_Y=\n",
    "\\begin{pmatrix}\n",
    "1&-3\\\\\n",
    "1&2\n",
    "\\end{pmatrix}\n",
    "\\end{equation}"
   ]
  },
  {
   "cell_type": "markdown",
   "metadata": {},
   "source": [
    "$$ \\Delta_Y=+(1)(2)-(1)(-3) $$"
   ]
  },
  {
   "cell_type": "markdown",
   "metadata": {},
   "source": [
    "$$ \\Delta_Y=2+3=5 $$"
   ]
  },
  {
   "cell_type": "markdown",
   "metadata": {},
   "source": [
    "$$ Y=\\frac{\\Delta_Y}{\\Delta} $$"
   ]
  },
  {
   "cell_type": "markdown",
   "metadata": {},
   "source": [
    "$$ Y=\\frac{5}{1}=5 $$"
   ]
  },
  {
   "cell_type": "markdown",
   "metadata": {},
   "source": [
    "* ***Ejemplo:***\n",
    "\n",
    "Una entómologa tiene 18 animales (arañas y cucarachas) en un recipiente. Está en cuarentena (aburrida) y se pone a contar las patitas de los animales. Cuenta 134 patitas. ¿Cuántas arañas y cucarachas hay?"
   ]
  },
  {
   "cell_type": "markdown",
   "metadata": {},
   "source": [
    "$a$: número de arañas\n",
    "\n",
    "$c$: número de cucarachas"
   ]
  },
  {
   "cell_type": "markdown",
   "metadata": {},
   "source": [
    "$ a+c=18\\qquad $ (número total de animalitos)"
   ]
  },
  {
   "cell_type": "markdown",
   "metadata": {},
   "source": [
    "$ 8x+6y=134\\qquad $ (número total de patitas)"
   ]
  },
  {
   "cell_type": "markdown",
   "metadata": {},
   "source": [
    "Entonces ya tenemos nuestro sistema de ecuaciones."
   ]
  },
  {
   "cell_type": "markdown",
   "metadata": {},
   "source": [
    "**Tarea moral:** Resuelvan el sistema de ecuaciones."
   ]
  }
 ],
 "metadata": {
  "@webio": {
   "lastCommId": null,
   "lastKernelId": null
  },
  "kernelspec": {
   "display_name": "Julia 1.1.0",
   "language": "julia",
   "name": "julia-1.1"
  },
  "language_info": {
   "file_extension": ".jl",
   "mimetype": "application/julia",
   "name": "julia",
   "version": "1.1.0"
  }
 },
 "nbformat": 4,
 "nbformat_minor": 4
}
